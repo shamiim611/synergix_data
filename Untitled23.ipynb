{
 "cells": [
  {
   "cell_type": "code",
   "execution_count": 1,
   "id": "0de391d1-95fa-428b-8b2b-d11eed2ab905",
   "metadata": {},
   "outputs": [],
   "source": [
    "%%capture\n",
    "!pip install numpy streamlit== 1.26.0 gdown pandas==1.5.2 scikit-learn==1.2.0"
   ]
  },
  {
   "cell_type": "code",
   "execution_count": 7,
   "id": "2b32571d-6d3b-4b34-9e55-f973df508450",
   "metadata": {},
   "outputs": [
    {
     "name": "stdout",
     "output_type": "stream",
     "text": [
      "Writing streamlit_app.py\n"
     ]
    }
   ],
   "source": [
    "%%writefile streamlit_app.py\n",
    "import streamlit as st\n",
    "import pandas as pd\n",
    "import seaborn as sns\n",
    "import matplotlib.pyplot as plt\n",
    "\n",
    "# Load the data\n",
    "@st.cache\n",
    "def load_data():\n",
    "    url = 'https://github.com/shamiim611/synergix_data/upload/main'\n",
    "    return pd.read_csv(url)\n",
    "\n",
    "data = load_data()\n",
    "\n",
    "# Title and description\n",
    "st.title('Exploratory Data Analysis of Synergix Dataset')\n",
    "st.write('This Streamlit app visualizes the patterns in the Synergix dataset.')\n",
    "\n",
    "# Display the dataset\n",
    "if st.checkbox('Show raw data'):\n",
    "    st.write(data)\n",
    "\n",
    "# Distribution plots\n",
    "st.header('Distribution of Numerical Features')\n",
    "feature = st.selectbox('Select a feature to plot', data.select_dtypes(include=['float64', 'int64']).columns)\n",
    "fig, ax = plt.subplots()\n",
    "sns.histplot(data[feature], kde=True, ax=ax)\n",
    "st.pyplot(fig)\n",
    "\n",
    "# Scatter plot between features\n",
    "st.header('Scatter Plot')\n",
    "x_axis = st.selectbox('Select X-axis', data.select_dtypes(include=['float64', 'int64']).columns)\n",
    "y_axis = st.selectbox('Select Y-axis', data.select_dtypes(include=['float64', 'int64']).columns)\n",
    "fig, ax = plt.subplots()\n",
    "sns.scatterplot(x=data[x_axis], y=data[y_axis], hue=data['Segment'], ax=ax)\n",
    "st.pyplot(fig)\n",
    "\n",
    "# Correlation heatmap\n",
    "st.header('Correlation Heatmap')\n",
    "fig, ax = plt.subplots(figsize=(10, 8))\n",
    "sns.heatmap(data.corr(), annot=True, fmt='.2f', cmap='coolwarm', ax=ax)\n",
    "st.pyplot(fig)\n",
    "\n",
    "# Box plot for segments\n",
    "st.header('Box Plot of Features by Segment')\n",
    "boxplot_feature = st.selectbox('Select a feature for box plot', data.select_dtypes(include=['float64', 'int64']).columns)\n",
    "fig, ax = plt.subplots()\n",
    "sns.boxplot(x='Segment', y=boxplot_feature, data=data, ax=ax)\n",
    "st.pyplot(fig)\n",
    "\n"
   ]
  },
  {
   "cell_type": "code",
   "execution_count": 9,
   "id": "1b4f27c6-04cf-4511-9900-959a08954097",
   "metadata": {},
   "outputs": [
    {
     "data": {
      "text/html": [
       "<a href='streamlit_app.py' target='_blank'>streamlit_app.py</a><br>"
      ],
      "text/plain": [
       "C:\\Users\\HP\\Downloads\\streamlit_app.py"
      ]
     },
     "metadata": {},
     "output_type": "display_data"
    }
   ],
   "source": [
    "from IPython.display import FileLink\n",
    "\n",
    "# Assuming you have saved the Streamlit app code to a file named 'streamlit_app.py'\n",
    "file_name = 'streamlit_app.py'\n",
    "\n",
    "# Create a link to download the file\n",
    "display(FileLink(file_name))"
   ]
  },
  {
   "cell_type": "code",
   "execution_count": 11,
   "id": "d230754b-545c-4f8e-8ec1-57ee1c43e3c0",
   "metadata": {},
   "outputs": [
    {
     "name": "stdout",
     "output_type": "stream",
     "text": [
      "Writing requirements.txt\n"
     ]
    }
   ],
   "source": [
    "%%writefile requirements.txt\n",
    "pandas\n",
    "streamlit\n",
    "seaborn\n",
    "matplotlib"
   ]
  },
  {
   "cell_type": "code",
   "execution_count": 13,
   "id": "b000c429-544e-4458-90e7-d587031c7b1a",
   "metadata": {},
   "outputs": [
    {
     "data": {
      "text/html": [
       "<a href='requirements.txt' target='_blank'>requirements.txt</a><br>"
      ],
      "text/plain": [
       "C:\\Users\\HP\\Downloads\\requirements.txt"
      ]
     },
     "metadata": {},
     "output_type": "display_data"
    }
   ],
   "source": [
    "from IPython.display import FileLink\n",
    "\n",
    "# Create a link to download the file\n",
    "display(FileLink('requirements.txt'))"
   ]
  },
  {
   "cell_type": "code",
   "execution_count": null,
   "id": "39bd8ed7-9e39-41fe-8e69-71e60eb70ec3",
   "metadata": {},
   "outputs": [],
   "source": []
  }
 ],
 "metadata": {
  "kernelspec": {
   "display_name": "Python 3 (ipykernel)",
   "language": "python",
   "name": "python3"
  },
  "language_info": {
   "codemirror_mode": {
    "name": "ipython",
    "version": 3
   },
   "file_extension": ".py",
   "mimetype": "text/x-python",
   "name": "python",
   "nbconvert_exporter": "python",
   "pygments_lexer": "ipython3",
   "version": "3.11.7"
  }
 },
 "nbformat": 4,
 "nbformat_minor": 5
}
